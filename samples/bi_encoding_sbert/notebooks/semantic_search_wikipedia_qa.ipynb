{
  "nbformat": 4,
  "nbformat_minor": 0,
  "metadata": {
    "colab": {
      "provenance": []
    },
    "kernelspec": {
      "name": "python3",
      "display_name": "Python 3"
    },
    "accelerator": "GPU"
  },
  "cells": [
    {
      "cell_type": "markdown",
      "metadata": {
        "id": "AF_x5L0e9r8A"
      },
      "source": [
        "# Semantic Search - Wikipedia Question-Answer-Retrieval\n",
        "\n",
        "This examples demonstrates the setup for Question-Answer-Retrieval.\n",
        "\n",
        "You can input a query or a question. The script then uses semantic search\n",
        "to find relevant passages in Simple English Wikipedia (as it is smaller and fits better in RAM).\n",
        "\n",
        "As model, we use: nq-distilbert-base-v1\n",
        "\n",
        "It was trained on the Natural Questions dataset, a dataset with real questions from Google Search together with annotated data from Wikipedia providing the answer. For the passages, we encode the Wikipedia article tile together with the individual text passages."
      ]
    },
    {
      "cell_type": "code",
      "metadata": {
        "id": "hJbZ22zZ7yPi",
        "colab": {
          "base_uri": "https://localhost:8080/"
        },
        "outputId": "05a3630d-71df-4f05-a8a8-aa6f39be47dc"
      },
      "source": [
        "!pip install -U sentence-transformers"
      ],
      "execution_count": null,
      "outputs": [
        {
          "output_type": "stream",
          "text": [
            "Collecting sentence-transformers\n",
            "\u001b[?25l  Downloading https://files.pythonhosted.org/packages/6a/e2/84d6acfcee2d83164149778a33b6bdd1a74e1bcb59b2b2cd1b861359b339/sentence-transformers-0.4.1.2.tar.gz (64kB)\n",
            "\u001b[K     |████████████████████████████████| 71kB 8.8MB/s \n",
            "\u001b[?25hCollecting transformers<5.0.0,>=3.1.0\n",
            "\u001b[?25l  Downloading https://files.pythonhosted.org/packages/98/87/ef312eef26f5cecd8b17ae9654cdd8d1fae1eb6dbd87257d6d73c128a4d0/transformers-4.3.2-py3-none-any.whl (1.8MB)\n",
            "\u001b[K     |████████████████████████████████| 1.8MB 26.5MB/s \n",
            "\u001b[?25hRequirement already satisfied, skipping upgrade: tqdm in /usr/local/lib/python3.6/dist-packages (from sentence-transformers) (4.41.1)\n",
            "Requirement already satisfied, skipping upgrade: torch>=1.6.0 in /usr/local/lib/python3.6/dist-packages (from sentence-transformers) (1.7.0+cu101)\n",
            "Requirement already satisfied, skipping upgrade: numpy in /usr/local/lib/python3.6/dist-packages (from sentence-transformers) (1.19.5)\n",
            "Requirement already satisfied, skipping upgrade: scikit-learn in /usr/local/lib/python3.6/dist-packages (from sentence-transformers) (0.22.2.post1)\n",
            "Requirement already satisfied, skipping upgrade: scipy in /usr/local/lib/python3.6/dist-packages (from sentence-transformers) (1.4.1)\n",
            "Requirement already satisfied, skipping upgrade: nltk in /usr/local/lib/python3.6/dist-packages (from sentence-transformers) (3.2.5)\n",
            "Collecting sentencepiece\n",
            "\u001b[?25l  Downloading https://files.pythonhosted.org/packages/14/67/e42bd1181472c95c8cda79305df848264f2a7f62740995a46945d9797b67/sentencepiece-0.1.95-cp36-cp36m-manylinux2014_x86_64.whl (1.2MB)\n",
            "\u001b[K     |████████████████████████████████| 1.2MB 56.7MB/s \n",
            "\u001b[?25hRequirement already satisfied, skipping upgrade: filelock in /usr/local/lib/python3.6/dist-packages (from transformers<5.0.0,>=3.1.0->sentence-transformers) (3.0.12)\n",
            "Collecting tokenizers<0.11,>=0.10.1\n",
            "\u001b[?25l  Downloading https://files.pythonhosted.org/packages/fd/5b/44baae602e0a30bcc53fbdbc60bd940c15e143d252d658dfdefce736ece5/tokenizers-0.10.1-cp36-cp36m-manylinux2010_x86_64.whl (3.2MB)\n",
            "\u001b[K     |████████████████████████████████| 3.2MB 50.9MB/s \n",
            "\u001b[?25hRequirement already satisfied, skipping upgrade: packaging in /usr/local/lib/python3.6/dist-packages (from transformers<5.0.0,>=3.1.0->sentence-transformers) (20.9)\n",
            "Requirement already satisfied, skipping upgrade: importlib-metadata; python_version < \"3.8\" in /usr/local/lib/python3.6/dist-packages (from transformers<5.0.0,>=3.1.0->sentence-transformers) (3.4.0)\n",
            "Collecting sacremoses\n",
            "\u001b[?25l  Downloading https://files.pythonhosted.org/packages/7d/34/09d19aff26edcc8eb2a01bed8e98f13a1537005d31e95233fd48216eed10/sacremoses-0.0.43.tar.gz (883kB)\n",
            "\u001b[K     |████████████████████████████████| 890kB 55.4MB/s \n",
            "\u001b[?25hRequirement already satisfied, skipping upgrade: regex!=2019.12.17 in /usr/local/lib/python3.6/dist-packages (from transformers<5.0.0,>=3.1.0->sentence-transformers) (2019.12.20)\n",
            "Requirement already satisfied, skipping upgrade: dataclasses; python_version < \"3.7\" in /usr/local/lib/python3.6/dist-packages (from transformers<5.0.0,>=3.1.0->sentence-transformers) (0.8)\n",
            "Requirement already satisfied, skipping upgrade: requests in /usr/local/lib/python3.6/dist-packages (from transformers<5.0.0,>=3.1.0->sentence-transformers) (2.23.0)\n",
            "Requirement already satisfied, skipping upgrade: typing-extensions in /usr/local/lib/python3.6/dist-packages (from torch>=1.6.0->sentence-transformers) (3.7.4.3)\n",
            "Requirement already satisfied, skipping upgrade: future in /usr/local/lib/python3.6/dist-packages (from torch>=1.6.0->sentence-transformers) (0.16.0)\n",
            "Requirement already satisfied, skipping upgrade: joblib>=0.11 in /usr/local/lib/python3.6/dist-packages (from scikit-learn->sentence-transformers) (1.0.0)\n",
            "Requirement already satisfied, skipping upgrade: six in /usr/local/lib/python3.6/dist-packages (from nltk->sentence-transformers) (1.15.0)\n",
            "Requirement already satisfied, skipping upgrade: pyparsing>=2.0.2 in /usr/local/lib/python3.6/dist-packages (from packaging->transformers<5.0.0,>=3.1.0->sentence-transformers) (2.4.7)\n",
            "Requirement already satisfied, skipping upgrade: zipp>=0.5 in /usr/local/lib/python3.6/dist-packages (from importlib-metadata; python_version < \"3.8\"->transformers<5.0.0,>=3.1.0->sentence-transformers) (3.4.0)\n",
            "Requirement already satisfied, skipping upgrade: click in /usr/local/lib/python3.6/dist-packages (from sacremoses->transformers<5.0.0,>=3.1.0->sentence-transformers) (7.1.2)\n",
            "Requirement already satisfied, skipping upgrade: idna<3,>=2.5 in /usr/local/lib/python3.6/dist-packages (from requests->transformers<5.0.0,>=3.1.0->sentence-transformers) (2.10)\n",
            "Requirement already satisfied, skipping upgrade: urllib3!=1.25.0,!=1.25.1,<1.26,>=1.21.1 in /usr/local/lib/python3.6/dist-packages (from requests->transformers<5.0.0,>=3.1.0->sentence-transformers) (1.24.3)\n",
            "Requirement already satisfied, skipping upgrade: certifi>=2017.4.17 in /usr/local/lib/python3.6/dist-packages (from requests->transformers<5.0.0,>=3.1.0->sentence-transformers) (2020.12.5)\n",
            "Requirement already satisfied, skipping upgrade: chardet<4,>=3.0.2 in /usr/local/lib/python3.6/dist-packages (from requests->transformers<5.0.0,>=3.1.0->sentence-transformers) (3.0.4)\n",
            "Building wheels for collected packages: sentence-transformers, sacremoses\n",
            "  Building wheel for sentence-transformers (setup.py) ... \u001b[?25l\u001b[?25hdone\n",
            "  Created wheel for sentence-transformers: filename=sentence_transformers-0.4.1.2-cp36-none-any.whl size=103068 sha256=5c721c1711c829a5e0e4a305fa6dbb843395e1b1878bdb32aa1cfc587d67aedd\n",
            "  Stored in directory: /root/.cache/pip/wheels/3d/33/d1/5703dd56199c09d4a1b41e0c07fb4e7765a84d787cbdc48ac3\n",
            "  Building wheel for sacremoses (setup.py) ... \u001b[?25l\u001b[?25hdone\n",
            "  Created wheel for sacremoses: filename=sacremoses-0.0.43-cp36-none-any.whl size=893261 sha256=ab7eccdd0651139868ca069679abd5f9bf643c1e35658af748cf948920a24d9e\n",
            "  Stored in directory: /root/.cache/pip/wheels/29/3c/fd/7ce5c3f0666dab31a50123635e6fb5e19ceb42ce38d4e58f45\n",
            "Successfully built sentence-transformers sacremoses\n",
            "Installing collected packages: tokenizers, sacremoses, transformers, sentencepiece, sentence-transformers\n",
            "Successfully installed sacremoses-0.0.43 sentence-transformers-0.4.1.2 sentencepiece-0.1.95 tokenizers-0.10.1 transformers-4.3.2\n"
          ],
          "name": "stdout"
        }
      ]
    },
    {
      "cell_type": "code",
      "metadata": {
        "colab": {
          "base_uri": "https://localhost:8080/"
        },
        "id": "6zQLM84377Xf",
        "outputId": "5acd3de3-9ba2-459c-f463-3a70302272c7"
      },
      "source": [
        "import json\n",
        "from sentence_transformers import SentenceTransformer, CrossEncoder, util\n",
        "import time\n",
        "import gzip\n",
        "import os\n",
        "import torch\n",
        "\n",
        "if not torch.cuda.is_available():\n",
        "  print(\"Warning: No GPU found. Please add GPU to your notebook\")\n",
        "\n",
        "\n",
        "# We use the Bi-Encoder to encode all passages, so that we can use it with sematic search\n",
        "model_name = 'nq-distilbert-base-v1'\n",
        "bi_encoder = SentenceTransformer(model_name)\n",
        "top_k = 5  # Number of passages we want to retrieve with the bi-encoder\n",
        "\n",
        "# As dataset, we use Simple English Wikipedia. Compared to the full English wikipedia, it has only\n",
        "# about 170k articles. We split these articles into paragraphs and encode them with the bi-encoder\n",
        "\n",
        "wikipedia_filepath = 'data/simplewiki-2020-11-01.jsonl.gz'\n",
        "\n",
        "if not os.path.exists(wikipedia_filepath):\n",
        "    util.http_get('http://sbert.net/datasets/simplewiki-2020-11-01.jsonl.gz', wikipedia_filepath)\n",
        "\n",
        "passages = []\n",
        "with gzip.open(wikipedia_filepath, 'rt', encoding='utf8') as fIn:\n",
        "    for line in fIn:\n",
        "        data = json.loads(line.strip())\n",
        "        for paragraph in data['paragraphs']:\n",
        "            # We encode the passages as [title, text]\n",
        "            passages.append([data['title'], paragraph])\n",
        "\n",
        "# If you like, you can also limit the number of passages you want to use\n",
        "print(\"Passages:\", len(passages))\n",
        "\n",
        "# To speed things up, pre-computed embeddings are downloaded.\n",
        "# The provided file encoded the passages with the model 'nq-distilbert-base-v1'\n",
        "if model_name == 'nq-distilbert-base-v1':\n",
        "    embeddings_filepath = 'simplewiki-2020-11-01-nq-distilbert-base-v1.pt'\n",
        "    if not os.path.exists(embeddings_filepath):\n",
        "        util.http_get('http://sbert.net/datasets/simplewiki-2020-11-01-nq-distilbert-base-v1.pt', embeddings_filepath)\n",
        "\n",
        "    corpus_embeddings = torch.load(embeddings_filepath)\n",
        "    corpus_embeddings = corpus_embeddings.float()  # Convert embedding file to float\n",
        "    if torch.cuda.is_available():\n",
        "        corpus_embeddings = corpus_embeddings.to('cuda')\n",
        "else:  # Here, we compute the corpus_embeddings from scratch (which can take a while depending on the GPU)\n",
        "    corpus_embeddings = bi_encoder.encode(passages, convert_to_tensor=True, show_progress_bar=True)"
      ],
      "execution_count": null,
      "outputs": [
        {
          "output_type": "stream",
          "text": [
            "100%|██████████| 245M/245M [00:10<00:00, 24.1MB/s]\n",
            "100%|██████████| 50.2M/50.2M [00:04<00:00, 11.4MB/s]\n"
          ],
          "name": "stderr"
        },
        {
          "output_type": "stream",
          "text": [
            "Passages: 509663\n"
          ],
          "name": "stdout"
        },
        {
          "output_type": "stream",
          "text": [
            "100%|██████████| 783M/783M [00:26<00:00, 29.8MB/s]\n"
          ],
          "name": "stderr"
        }
      ]
    },
    {
      "cell_type": "code",
      "metadata": {
        "id": "ay9y6HdQ8Dx2"
      },
      "source": [
        "def search(query):\n",
        "    # Encode the query using the bi-encoder and find potentially relevant passages\n",
        "    start_time = time.time()\n",
        "    question_embedding = bi_encoder.encode(query, convert_to_tensor=True)\n",
        "    hits = util.semantic_search(question_embedding, corpus_embeddings, top_k=top_k)\n",
        "    hits = hits[0]  # Get the hits for the first query\n",
        "    end_time = time.time()\n",
        "\n",
        "    # Output of top-k hits\n",
        "    print(\"Input question:\", query)\n",
        "    print(\"Results (after {:.3f} seconds):\".format(end_time - start_time))\n",
        "    for hit in hits:\n",
        "        print(\"\\t{:.3f}\\t{}\".format(hit['score'], passages[hit['corpus_id']]))"
      ],
      "execution_count": null,
      "outputs": []
    },
    {
      "cell_type": "code",
      "metadata": {
        "colab": {
          "base_uri": "https://localhost:8080/"
        },
        "id": "yzYTZ62j8JYv",
        "outputId": "4d765440-2b0f-43af-e9d7-4d1361b893b7"
      },
      "source": [
        "search(query = \"What is the capital of the France?\")"
      ],
      "execution_count": null,
      "outputs": [
        {
          "output_type": "stream",
          "text": [
            "Input question: What is the capital of the France?\n",
            "Results (after 1.493 seconds):\n",
            "\t0.826\t['Capital of France', 'The capital of France is Paris. In the course of history, the national capital has been in many locations other than Paris.']\n",
            "\t0.753\t['Arrondissement of Sarlat-la-Canéda', 'The arrondissement of Sarlat-la-Canéda is an arrondissement of France. It is part of the Dordogne \"département\" in the Nouvelle-Aquitaine region. Its capital is the city of Sarlat-la-Canéda.']\n",
            "\t0.752\t['Arrondissement of Figeac', 'The arrondissement of Figeac is an arrondissement of France. It is part of the Lot \"département\" in the Occitanie region. Its capital is the city of Figeac.']\n",
            "\t0.746\t[\"Arrondissement of Saint-Jean-d'Angély\", \"The arrondissement of Saint-Jean-d'Angély is an arrondissement of France, in the Charente-Maritime department, Nouvelle-Aquitaine region. Its capital is the city of Saint-Jean-d'Angély.\"]\n",
            "\t0.745\t['Arrondissement of Confolens', 'The arrondissement of Confolens is an arrondissement of France, in the Charente department, Nouvelle-Aquitaine region. Its capital is the city of Confolens.']\n"
          ],
          "name": "stdout"
        }
      ]
    },
    {
      "cell_type": "code",
      "metadata": {
        "colab": {
          "base_uri": "https://localhost:8080/"
        },
        "id": "i09OgOIz8K-u",
        "outputId": "7244ae09-ded6-4182-998d-25c942d0b83d"
      },
      "source": [
        "search(query = \"What is the best orchestra in the world?\")"
      ],
      "execution_count": null,
      "outputs": [
        {
          "output_type": "stream",
          "text": [
            "Input question: What is the best orchestra in the world?\n",
            "Results (after 0.645 seconds):\n",
            "\t0.642\t['Orchestra', 'Some of the greatest orchestras today include: the New York Philharmonic Orchestra, the Boston Symphony Orchestra, the Chicago Symphony Orchestra, the Cleveland Orchestra, the Los Angeles Philharmonic Orchestra, the London Symphony Orchestra, the London Philharmonic Orchestra, the BBC Symphony Orchestra, the Royal Concertgebouw Orchestra, the Vienna Philharmonic Orchestra, the Berlin Philharmonic Orchestra, the Leipzig Gewandhaus Orchestra, the , the St Petersburg Philharmonic Orchestra, the Israel Philharmonic Orchestra, and the NHK Symphony Orchestra (Tokyo). Opera houses usually have their own orchestra, e.g. the orchestras of the Metropolitan Opera House, La Scala, or the Royal Opera House.']\n",
            "\t0.557\t['Vienna Philharmonic', 'The Vienna Philharmonic (in German: die Wiener Philharmoniker) is an orchestra based in Vienna, Austria. It is thought of as one of the greatest orchestras in the world.']\n",
            "\t0.556\t['City of Birmingham Symphony Orchestra', 'The City of Birmingham Symphony Orchestra (CBSO) is one of the leading British orchestras. It is based in the Symphony Hall, Birmingham, England. It became particularly famous during the years when it was conducted by Sir Simon Rattle.']\n",
            "\t0.554\t['Maxim Vengerov', 'Universally hailed as one of the world’s finest musicians, and often referred to as the greatest living string player in the world today, Grammy award winner Maxim Vengerov also enjoys international acclaim as a conductor and is one of the most in-demand soloists.']\n",
            "\t0.550\t['Wilhelm Furtwängler', \"Wilhelm Furtwängler (born Berlin, 25 January 1886; died Baden-Baden, 30 November 1954) was a German conductor. He is thought of as one of the greatest conductors in history. Many people say that he is the best ever. The famous Italian conductor Arturo Toscanini said he was the world's best conductor other than himself.\"]\n"
          ],
          "name": "stdout"
        }
      ]
    },
    {
      "cell_type": "code",
      "metadata": {
        "colab": {
          "base_uri": "https://localhost:8080/"
        },
        "id": "I34QJmac8MGm",
        "outputId": "de832dfb-aac7-4e93-de80-03c70314eaae"
      },
      "source": [
        "search(query = \"Number countries Europe\")"
      ],
      "execution_count": null,
      "outputs": [
        {
          "output_type": "stream",
          "text": [
            "Input question: Number countries Europe\n",
            "Results (after 0.643 seconds):\n",
            "\t0.641\t['Europe', 'There are at least 43 countries in Europe (the European identities of 5 transcontinental countries:Cyprus, Georgia, Kazakhstan, Russia and Turkey are disputed). Most of these countries are members of the European Union.']\n",
            "\t0.639\t['Eurozone', 'There are 19 members in the Eurozone']\n",
            "\t0.638\t['Northern Europe', \"Europe, the planet's 6th largest continent, includes 47 countries and assorted dependencies, islands and territories.\"]\n",
            "\t0.628\t['Europe', 'Within these regions, there are up to 48 independent European countries (with the identities of 5 transcontinental countries being disputed). The largest is the Russian Federation, which covers 39% of Europe.']\n",
            "\t0.616\t['Schengen Area', 'Twenty-six countries belong to the Schengen Area. All these countries are members of the European Union, except Iceland, Liechtenstein, Norway and Switzerland.']\n"
          ],
          "name": "stdout"
        }
      ]
    },
    {
      "cell_type": "code",
      "metadata": {
        "colab": {
          "base_uri": "https://localhost:8080/"
        },
        "id": "07Y5IlfY8NYO",
        "outputId": "40976ab6-23b2-45fb-c1a7-c2e0c38e7e8b"
      },
      "source": [
        "search(query = \"When did the cold war end?\")"
      ],
      "execution_count": null,
      "outputs": [
        {
          "output_type": "stream",
          "text": [
            "Input question: When did the cold war end?\n",
            "Results (after 0.646 seconds):\n",
            "\t0.715\t['Cold War', 'Not all historians agree on when the Cold War ended. Some think it ended when the Berlin Wall fell. Others think it ended when the Soviet Union collapsed in 1991.']\n",
            "\t0.668\t['Cold War', 'After the fall of the Berlin Wall in 1989 and without Communist rule holding together the countries that comprised the Soviet Union, the USSR broke into smaller countries, like Russia, Ukraine, Lithuania and Georgia. The nations of Eastern Europe returned to capitalism, and the period of the Cold War was over. The Soviet Union ended in December 1991.']\n",
            "\t0.643\t['Ronald Reagan', 'When Reagan visited Moscow for the fourth summit in 1988, he was seen as a celebrity by the Soviets. A journalist asked the president if he still considered the Soviet Union the evil empire. \"No\", he replied, \"I was talking about another time, another era\". In November 1989, ten months after Reagan left office, the Berlin Wall was torn down, the Cold War was officially declared over at the Malta Summit on December 3, 1989, and two years later, the Soviet Union collapsed.']\n",
            "\t0.633\t['Cold War', 'The Cold War was the tense relationship between the United States (and its allies), and the Soviet Union (the USSR and its allies) between the end of World War II and the fall of the Soviet Union. It is called the \"Cold\" War because the US and the USSR never actually fought each other directly. Instead, they opposed each other in conflicts known as proxy wars, where each country chose a side to support.']\n",
            "\t0.607\t['War', 'Another kind of war existed from 1947 until 1991 called the Cold War. This started when diplomatic relations between the United States and the Soviet Union broke down. Both countries had nuclear weapons and both stood ready to use them against the other. But there was no actual war between the two. It ended with the fall of the Soviet Union in 1991. The cold war was also called a containment where the United States tried to prevent the spread of communism to other countries. During the cold war, the major powers did not fight themselves, but often backed third parties in what was called a proxy war. The Vietnam War is often given as an example of a proxy war. But proxy wars happened long before the cold war and are still happening.']\n"
          ],
          "name": "stdout"
        }
      ]
    },
    {
      "cell_type": "code",
      "metadata": {
        "colab": {
          "base_uri": "https://localhost:8080/"
        },
        "id": "-Vwl92Sj8OfH",
        "outputId": "5e6c5889-4b79-49e3-f23b-5a5769cf6c50"
      },
      "source": [
        "search(query = \"How long do cats live?\")"
      ],
      "execution_count": null,
      "outputs": [
        {
          "output_type": "stream",
          "text": [
            "Input question: How long do cats live?\n",
            "Results (after 0.656 seconds):\n",
            "\t0.805\t['Aging in cats', 'Reliable information on the lifespans of house cats is hard to find. However, research has been done to get an estimate (an educated guess) on how long cats usually live. Cats usually live for 13 to 20 years. Sometimes cats can live for 22 to 30 years but there are claims of cats dying at ages of more than 30 years old.']\n",
            "\t0.744\t['Aging in cats', 'The life expectancy of an indoor cat is around 17 years, but the life expectancy of outdoor cats is 5.6 years.']\n",
            "\t0.628\t['Mouse-like hamsters', 'Mouse-like hamsters live the longest of all the mouse species. They have been recorded as living 9 years, 3 months and 18 days in captivity. They regularly live over 4 years in captivity. The species which lives the second longest in the muroids lives 7 years, 8 months, which is the Canyon Mouse, \"Peromyscus crinitus\".']\n",
            "\t0.608\t['American Shorthair', 'The American Shorthair is a working cat. It has a large and strong body. It is usually healthy, calm and loving with its owners. This cat is friendly and not shy with strangers. Males weigh eleven to fifteen pounds. Females weigh eight to twelve pounds. It takes three or four years for them to become adult cats. With a good diet and good care, they can live 15 years or longer.']\n",
            "\t0.605\t['Cat', 'The gestation period for cats is about two months, with an average length of 66 days. The size of a \"litter\" is usually three to five kittens. Kittens are \"weaned\" at between six and seven weeks, and cats normally reach sexual maturity at 5–10 months (females) and to 5–7 months (males). Females can have two to three litters per year, so might produce up to 150 kittens in their breeding life of about ten years.']\n"
          ],
          "name": "stdout"
        }
      ]
    },
    {
      "cell_type": "code",
      "metadata": {
        "colab": {
          "base_uri": "https://localhost:8080/"
        },
        "id": "8ctUiLrj8Qjv",
        "outputId": "522784fd-6cab-4933-acc1-cc197913fe31"
      },
      "source": [
        "search(query = \"How many people live in Toronto?\")"
      ],
      "execution_count": null,
      "outputs": [
        {
          "output_type": "stream",
          "text": [
            "Input question: How many people live in Toronto?\n",
            "Results (after 0.657 seconds):\n",
            "\t0.753\t['Toronto', 'The City of Toronto has a population of over 3 million people. Even more people live in the regions around it. All together, the Greater Toronto Area is home to over 6 million people. That makes it the biggest metropolitan area in Canada.']\n",
            "\t0.606\t['Markham, Ontario', 'Markham, Ontario is a city in Regional Municipality of York, in the Greater Toronto Area of Southern Ontario, Canada. There are twice as many people there as in 1990. 261,573 people live in Markham. It is the 4th largest town in the Greater Toronto Area, after Toronto, Mississauga, and Brampton.']\n",
            "\t0.577\t['Toronto', 'Toronto is the capital city of the province of Ontario in Canada. It is also the largest city in both Ontario and Canada. Found It is on the north-west side of Lake Ontario.']\n",
            "\t0.561\t['Toronto', 'Toronto is a very multicultural city. Different people from around the world have moved to Toronto to live since the 20th century. There is a Chinatown, Little Italy, Little Tokyo, Greektown, Little Portugal, and other places where different cultures are kept alive. These people hold festivals where they share their culture with others. Among the most popular is the Canadian National Exhibition (CNE), which happens every year in August.']\n",
            "\t0.560\t['Victoria Island (Canada)', 'As of 2006, 1,875 live on Victoria Island. Most of the people (1,477) live in its biggest city, Cambridge Bay.']\n"
          ],
          "name": "stdout"
        }
      ]
    },
    {
      "cell_type": "code",
      "metadata": {
        "colab": {
          "base_uri": "https://localhost:8080/"
        },
        "id": "52IVo1tt8Rxu",
        "outputId": "639519aa-1c8b-4db2-b029-9436ffced905"
      },
      "source": [
        "search(query = \"Oldest US president\")"
      ],
      "execution_count": null,
      "outputs": [
        {
          "output_type": "stream",
          "text": [
            "Input question: Oldest US president\n",
            "Results (after 0.650 seconds):\n",
            "\t0.643\t['William Henry Harrison', 'He was elected president in 1840, and took the oath of office on March 4, 1841. His inauguration speech lasted an hour and forty minutes. William Henry Harrison caught a serious case of pneumonia, and on April 4 that same year he died. He was the first President to die in office. Harrison was the oldest president to take office at , until 1981 when Ronald Reagan was a year older than Harrison. He was the last president to be born before the United States Declaration of Independence.']\n",
            "\t0.615\t['Martin Van Buren', 'Martin Van Buren (December 5, 1782 – July 24, 1862) was the eighth President of the United States. He was the first president born after the United States Declaration of Independence, making him the first president who was born as a U.S. citizen.']\n",
            "\t0.571\t['George Washington', 'George Washington (February 22, 1732 – December 14, 1799) was the first President of the United States (1789–1797), the commander in chief of the Continental Army during the American Revolutionary War, and one of the Founding Fathers of the United States.']\n",
            "\t0.566\t['Theodore Roosevelt', 'Theodore \"Teddy\" Roosevelt, Jr. (October 27, 1858–January 6, 1919), was the 26th president of the United States. He was born in New York.']\n",
            "\t0.565\t['Ronald Reagan', 'Reagan was the oldest president up to that time and was supported by young voters, who began to support the Republican party as a result.']\n"
          ],
          "name": "stdout"
        }
      ]
    },
    {
      "cell_type": "code",
      "metadata": {
        "colab": {
          "base_uri": "https://localhost:8080/"
        },
        "id": "wmU6eCWz8TO-",
        "outputId": "fe9fc50c-a61a-4616-c833-eb508fbde12f"
      },
      "source": [
        "search(query = \"Coldest place earth\")"
      ],
      "execution_count": null,
      "outputs": [
        {
          "output_type": "stream",
          "text": [
            "Input question: Coldest place earth\n",
            "Results (after 0.662 seconds):\n",
            "\t0.648\t['East Antarctica', 'East Antarctica, also called Greater Antarctica, is the largest part (two-thirds) of the Antarctic continent. It is on the Indian Ocean side of the Transantarctic Mountains. It is the coldest, windiest, and driest part of Earth. East Antarctica holds the record as the coldest place on earth.']\n",
            "\t0.619\t['Ulan Bator', 'Ulaanbaatar is at about 1350 meters (4430\\xa0ft) above sea level. For this high elevation, and for the high latitude, and location hundreds of kilometres from any coast, Ulaanbaatar is the coldest national capital in the world, with a subarctic climate.']\n",
            "\t0.615\t['Cold', 'The coldest possible temperature is −273.15 °C, which can be expressed as -459.67 °F on the Fahrenheit scale. This is called absolute zero. Absolute zero is also 0 K on the Kelvin scale and 0 °R on the Rankine scale']\n",
            "\t0.608\t['Antarctica', 'Antarctica is the coldest, driest and windiest continent. It is also, on average, the highest of all the continents. Antarctica is considered a desert. It has yearly precipitation of only 200\\xa0mm (8\\xa0inches) near the sea and far less inland. No humans live in Antarctica permanently. However, about 1,000 to 5,000 people live through the year at the science stations in Antarctica. Only plants and animals that can live in cold live there. The animals include penguins, seals, nematodes, tardigrades and mites. Plant life includes some grass and shrubs, algae, lichen, fungi, and bacteria.']\n",
            "\t0.594\t['Antarctic Circle', 'There is no permanent population of persons south of the Antarctic Circle. There are research centers from some nations on Antarctica. Teams of scientists live in the research centers for part of the year. In past centuries some whaling stations were set up on Antarctica and some of the whalers would live there for a year or more. At least three children have been born in Antarctica. It is one of the coldest places on earth.The lowest temperature ever recorded on earth was recorded in Antarctica (-129.3)']\n"
          ],
          "name": "stdout"
        }
      ]
    },
    {
      "cell_type": "code",
      "metadata": {
        "colab": {
          "base_uri": "https://localhost:8080/"
        },
        "id": "8PlBh4lE8Vki",
        "outputId": "a5a44d32-42fc-4c67-a196-302c70bdfc6e"
      },
      "source": [
        "search(query = \"When was Barack Obama born?\")"
      ],
      "execution_count": null,
      "outputs": [
        {
          "output_type": "stream",
          "text": [
            "Input question: When was Barack Obama born?\n",
            "Results (after 0.655 seconds):\n",
            "\t0.717\t['Barack Obama', 'Obama was born on August 4, 1961 in Kapiʻolani Medical Center for Women and Children (called Kapiʻolani Maternity & Gynecological Hospital in 1961) in Honolulu, Hawaii and is the first President to have been born in Hawaii. His father was a black exchange student from Kenya named Barack Obama Sr. He died in a motorcycle accident in Kenya in 1982. His mother was a white woman from Kansas named Ann Dunham, who was an anthropologist and died in 1995. He spent most of his childhood in Hawaii and Chicago, Illinois, although he lived in Jakarta, Indonesia with his mother and stepfather from age 6 to age 10. He later moved back to Hawaii to live with his grandparents.']\n",
            "\t0.699\t['Stanley Armour Dunham', 'Stanley Armour Dunham (March 23, 1918 – February 8, 1992) was the maternal grandfather of U.S. President Barack Obama. He and his wife Madelyn Payne Dunham raised Obama from the age of 10 in Honolulu, Hawaii.']\n",
            "\t0.628\t['Ann Dunham', 'Stanley Ann Dunham (November 29, 1942 – November 7, 1995), the mother of Barack Obama, the 44th President of the United States, was an American anthropologist. She was later known as, Ann Dunham, Ann Obama, Ann Soetoro, Ann Sutoro (after her second divorce) and finally as Ann Dunham. Dunham spent her childhood in California, Oklahoma, Texas and Kansas. Dunham spent her teenage years in Mercer Island, Washington. Much of her adult life was spent in Hawaii.']\n",
            "\t0.612\t['Madelyn Lee Payne', \"Madelyn Lee Payne Dunham ( ; October 26, 1922 – November 2, 2008) was the grandmother of Barack Obama, the 44th President of the United States. Her daughter was Obama mother's, Ann Dunham. Madelyn and her husband Stanley Armour Dunham raised Obama from age ten in their apartment in Honolulu, Hawaii. She died two days before her grandson was elected President.\"]\n",
            "\t0.567\t['Barack Obama', 'Barack Hussein Obama II (; born August 4, 1961) is an American politician. He was the 44th President of the United States and the first African-American to hold the office. He is a Democrat. Obama won the 2008 United States presidential election, on November 4, 2008. He was inaugurated on January 20, 2009.']\n"
          ],
          "name": "stdout"
        }
      ]
    },
    {
      "cell_type": "code",
      "metadata": {
        "colab": {
          "base_uri": "https://localhost:8080/"
        },
        "id": "imc4y5-08YEX",
        "outputId": "f585489a-7041-4369-b86e-70b75756d363"
      },
      "source": [
        "search(query = \"Paris eiffel tower\")"
      ],
      "execution_count": null,
      "outputs": [
        {
          "output_type": "stream",
          "text": [
            "Input question: Paris eiffel tower\n",
            "Results (after 0.660 seconds):\n",
            "\t0.667\t['Eiffel Tower', 'The Eiffel Tower (French: La Tour Eiffel, ], IPA pronunciation: \"EYE-full\" English; \"eh-FEHL\" French) is a landmark in Paris. It was built between 1887 and 1889 for the Exposition Universelle (World Fair). The Tower was the Exposition\\'s main attraction.']\n",
            "\t0.645\t['France', 'Some of the most famous attractions in Paris, are the Eiffel Tower and the Arc de Triomphe. Another one is Mont Saint Michel, in Normandy.']\n",
            "\t0.564\t['Arc de Triomphe', 'The Arc de Triomphe (meaning \"arch of victory)\", at the centre of the place de l\\'Étoile and the western end of the Champs-Elysées, is a very famous monument in Paris.']\n",
            "\t0.560\t['Multiple choice', '2. Where is the Eiffel Tower?<br>A) London<br>B) Paris<br>C) Singapore<br>D) New York']\n",
            "\t0.508\t['Louise Michel (Paris Metro)', 'Louise Michel is a station of the Paris Métro, serving Line 3. It is located in the commune of Levallois-Perret northwest of the French capital, Paris.']\n"
          ],
          "name": "stdout"
        }
      ]
    },
    {
      "cell_type": "code",
      "metadata": {
        "colab": {
          "base_uri": "https://localhost:8080/"
        },
        "id": "7lohdeEU8ZFJ",
        "outputId": "9f5c1b3d-9673-400e-e1df-c6811a5993e6"
      },
      "source": [
        "search(query = \"Which US president was killed?\")"
      ],
      "execution_count": null,
      "outputs": [
        {
          "output_type": "stream",
          "text": [
            "Input question: Which US president was killed?\n",
            "Results (after 0.648 seconds):\n",
            "\t0.665\t['Assassination', 'In the United States, four presidents were assassinated within 100 years. They were Presidents Abraham Lincoln (1865), James Garfield (1881), William McKinley (1901), and John F. Kennedy (1963).']\n",
            "\t0.640\t['Abraham Lincoln', 'Abraham Lincoln (February 12, 1809 \\xa0– April 15, 1865) was an American politician. He was the 16th President of the United States. He was president from 1861 to 1865, during the American Civil War. Just five days after most of the Confederate forces had surrendered and the war was ending, John Wilkes Booth assassinated Lincoln. Lincoln was the first president of the United States to be assassinated. Lincoln has been remembered as the \"Great Emancipator\" because he worked to end slavery in the United States.']\n",
            "\t0.630\t['James A. Garfield', 'James Abram Garfield (November 19, 1831 - September 19, 1881) was the 20th (1881) President of the United States and the 2nd President to be assassinated (killed while in office). President Garfield was in office from March to September of 1881. He was in office for a total of six months and fifteen days. For almost half that time he was bedridden as a result of an attempt to kill him. He was shot on July 2 and finally died in September the same year he got into office.']\n",
            "\t0.627\t['William McKinley', 'William McKinley Jr. (January 29, 1843 – September 14, 1901) was the 25th President of the United States, from 1897 until his assassination in 1901.']\n",
            "\t0.627\t['Assassination of John F. Kennedy', \"John F. Kennedy was the 35th President of the United States. He was assassinated (murdered) in Dealey Plaza, Dallas, Texas, on Friday, November\\xa022, 1963. This happened while he was traveling in a Presidential motorcade with his wife Jacqueline, the Governor of Texas John Connally, and the governor's wife Nellie.\"]\n"
          ],
          "name": "stdout"
        }
      ]
    },
    {
      "cell_type": "code",
      "metadata": {
        "colab": {
          "base_uri": "https://localhost:8080/"
        },
        "id": "0NHv0VYs8aNm",
        "outputId": "7f9c1454-eb5b-4c79-9b4c-526429257798"
      },
      "source": [
        "search(query=\"When is Chinese New Year\")"
      ],
      "execution_count": null,
      "outputs": [
        {
          "output_type": "stream",
          "text": [
            "Input question: When is Chinese New Year\n",
            "Results (after 0.652 seconds):\n",
            "\t0.761\t['Chinese New Year', 'Chinese New Year, known in China as the SpringFestival and in Singapore as the LunarNewYear, is a holiday on and around the new moon on the first day of the year in the traditional Chinese calendar. This calendar is based on the changes in the moon and is only sometimes changed to fit the seasons of the year based on how the Earth moves around the sun. Because of this, Chinese New Year is never on January1. It moves around between January21 and February20.']\n",
            "\t0.745\t[\"People's Republic of China\", \"Chinese New Year lasts fifteen days, including one week as a national holiday. It starts with the first day of the Chinese lunar year and ends with the full moon fifteen days later. It is always in the middle of winter, but is called the Spring Festival in Chinese because Chinese seasons are a little different from English ones. On the first day of the Chinese New Year, people call on friends and relatives. Because most people watch the special performances on CCTV all the night on New Year's Eve and don't go to bed until 12:00\\xa0AM, they usually get up later in the next day. The fifth day of the Chinese New Year is the day to welcome the god of Wealth (Chinese:财神爷), many people make and eat dumplings (Chinese:饺子. Pinyin: Jaozi). They believe that dumplings can hold the god of Wealth and bring luck. The last day of the Chinese New Year is the Lantern Festival. On this day, the moon becomes the full moon. People go out and watch the lantern festivals everywhere. After that, they eat sweet dumpling (Chinese:汤圆,元宵), a kind of dumpling which is round and looks like the full moon.\"]\n",
            "\t0.735\t['Chinese New Year', 'Chinese New Year always starts on a new moon, when the Moon is between the Earth and Sun and it looks all dark in the night sky. Because new moons happen about every 29.53 days but the year set by Pope GregoryXIII is 365.2425 days long, the Chinese holiday moves to different days each year. The Chinese calendar adds a 13th month every so often to keep the seasons in the right place, so the first day of the new year always happens between January21 and February20 on the 2nd or 3rd new moon after the 1st day of winter. The chart on the right gives the day of each Chinese New Year from 1996 to 2031.']\n",
            "\t0.681\t[\"National Day of the People's Republic of China\", \"National Day is a yearly holiday in the People's Republic of China. It celebrates the beginning of its new government on October1, 1949. It is one of two Golden Weeks in the country, along with the Chinese New Year.\"]\n",
            "\t0.625\t[\"People's Republic of China\", 'China has many traditional festivals, such as the Chinese New Year, Dragon Boat Festival, Mid-Autumn Festival and so on. The most significant is Chinese New Year. Another important holiday is the National Day celebration around October. Weekends are moved around to make sure everyone has a week-long holiday for it, just like during the lunar new year.']\n"
          ],
          "name": "stdout"
        }
      ]
    },
    {
      "cell_type": "code",
      "metadata": {
        "colab": {
          "base_uri": "https://localhost:8080/"
        },
        "id": "azCVW4Pb7ExY",
        "outputId": "8d00c613-b012-48f6-d78d-4345b09e169b"
      },
      "source": [
        "search(query=\"what is the name of manchester united stadium\")"
      ],
      "execution_count": null,
      "outputs": [
        {
          "output_type": "stream",
          "text": [
            "Input question: what is the name of manchester united stadium\n",
            "Results (after 0.657 seconds):\n",
            "\t0.747\t['Manchester United F.C.', 'Manchester United F.C. is a football club that plays in the Premier League. They play their home games at Old Trafford which is in Greater Manchester.']\n",
            "\t0.706\t['Old Trafford', 'Old Trafford is a football stadium in Manchester in North West England. Its nickname is \"The Theatre of Dreams\". It is home to the club Manchester United F.C.. It is the biggest club stadium in Great Britain and second biggest stadium in Great Britain, with Wembley Stadium being the biggest. Old Trafford hosted most of England\\'s home matches while Wembley was being built. It was built in 1910. It cost about £60,000,000 to build.']\n",
            "\t0.701\t['Manchester Regional Arena', 'The Manchester Regional Arena is a stadium in Manchester, England used mostly for athletics and association football. It was originally made as the warm-up track for the 2002 Commonwealth Games held at the City of Manchester Stadium which is next to it. It has hosted the AAA Championships and Paralympic World Cup. It is the current home of the Manchester City reserve team.']\n",
            "\t0.689\t[\"St James' Park\", \"St James' Park is a football stadium in Newcastle, England. It is the current home stadium of Newcastle United.\"]\n",
            "\t0.669\t['Bramall Lane', \"Bramall Lane is a football stadium in Sheffield, South Yorkshire, England. It is the home of Sheffield United. As the largest stadium in Sheffield during the 19th century it hosted most of the city's most significant matches including the final of the world's first football tournament, first floodlit match and several matches between the Sheffield and London Football Associations that led to the unification of their respective rules. It was also used by Sheffield Wednesday and Sheffield F.C. for major matches. It has been the home of Sheffield United since the club's establishment in 1889. It is the oldest major stadium in the world still to be hosting professional association football matches.\"]\n"
          ],
          "name": "stdout"
        }
      ]
    },
    {
      "cell_type": "code",
      "metadata": {
        "colab": {
          "base_uri": "https://localhost:8080/"
        },
        "id": "Kau1RStr8HAq",
        "outputId": "13fe4783-5357-447b-ce1a-da60e35ee58f"
      },
      "source": [
        "search(query=\"who wrote cant get you out of my head lyrics\")"
      ],
      "execution_count": null,
      "outputs": [
        {
          "output_type": "stream",
          "text": [
            "Input question: who wrote cant get you out of my head lyrics\n",
            "Results (after 0.652 seconds):\n",
            "\t0.602\t[\"Can't Get You Out of My Head\", '\"Can\\'t Get You Out of My Head\" is a song recorded by Australian singer Kylie Minogue. It is the first single from her eighth studio album, \"Fever\". It is credited with reigniting her career in the 2000s. It is a dance-pop song. The song was reported to reach number one in her home country of Australia, along with New Zealand and every country in Europe except Finland, where it reached the top five. It reached number seven on the \"Billboard\" Hot 100, becoming her second US top-ten hit after her version of \"The Locomotion\" in 1988. It has become Minogue\\'s signature song.']\n",
            "\t0.445\t[\"Just Can't Get Enough\", '\"Just Can\\'t Get Enough\" is a song by American hip hop group The Black Eyed Peas. William Adams, Allan Pineda, Jaime Gomez and Stacy Ferguson of the Black Eyed Peas wrote the song. Joshua Alvarez, Stephen Shadowen, Rodney \"Darkchild\" Jerkins, LaShawn Daniels, Julie Frost also helped in writing it. The song was written for the group\\'s sixth studio album, \"The Beginning\" (2010). It was announced on January 21, 2011 as the album\\'s second single. The song has been successful on music charts. It reached the top-five in many countries, such as Australia, France, United Kingdom and the United States, among others. The video for this song was made a week before the 2011 Tohoku earthquake and tsunami had began.']\n",
            "\t0.400\t['Samuel Sebastian Wesley', 'One day he went fishing when he should have been at choir practice. He fell when climbing over a stile and broke his leg. After that he always walked with a limp. While he was in hospital he wrote an anthem \"Cast me not away\" to words from Psalm 51. When the music gets to the words “the bones which thou hast broken” he set them to strange, crunching chords.']\n",
            "\t0.374\t['Donna Williams', 'Donna Leanne Williams (born Donna Keene in October 1963) is an Australian singer-songwriter, author and artist. In 1991, she was officially diagnosed as autistic. She has written four autobiography books: \"Nobody Nowhere\", \"Somebody Somewhere\", \"Like Colour to the Blind\" and \"Everyday Heaven\". She has also written several books on autistic spectrum conditions.']\n",
            "\t0.362\t['Cole Porter', 'Cole Albert Porter (June 9, 1891 – October 15, 1964) was an American composer and songwriter. He wrote musical comedies like \"Kiss Me, Kate,\" \"Fifty Million Frenchmen\", \"DuBarry Was a Lady\" and \"Anything Goes\". He also wrote songs like \"Night and Day,\" \"I Get a Kick out of You,\" \"Well, Did You Evah!\" and \"I\\'ve Got You Under My Skin.\" He was well known for his clever lyrics and rhymes. He wrote a lot of songs that are in the Great American Songbook.']\n"
          ],
          "name": "stdout"
        }
      ]
    },
    {
      "cell_type": "code",
      "metadata": {
        "colab": {
          "base_uri": "https://localhost:8080/"
        },
        "id": "eWJv14Bw8oZg",
        "outputId": "da777b3c-3558-4c5c-ca55-7e96730787db"
      },
      "source": [
        "search(query=\"where does the story the great gatsby take place\")"
      ],
      "execution_count": null,
      "outputs": [
        {
          "output_type": "stream",
          "text": [
            "Input question: where does the story the great gatsby take place\n",
            "Results (after 0.669 seconds):\n",
            "\t0.769\t['The Great Gatsby', 'The Great Gatsby is a novel by F. Scott Fitzgerald. It was first sold in 1925. The novel takes place in New York City and Long Island in New York.']\n",
            "\t0.768\t['The Great Gatsby', 'The story is told by Nick Carraway, a man who moves to Long Island, New York, from the Midwest. Nick is not rich, but he lives in a rich area that has two towns called East Egg and West Egg. The \"old rich\" live in East Egg while the \"new rich\" live in West Egg. Nick lives in a small house in West Egg. Nick\\'s next-door neighbor is Jay Gatsby. Jay is in love with Nick\\'s cousin Daisy. However, Daisy is married to a man named Tom. The novel is about Jay and his hope that he can steal Daisy from Tom.']\n",
            "\t0.762\t['The Great Gatsby', \"The events of the novel happen in the summer of 1922. Nick Carraway, a man who grew up in the American Midwest, is the narrator. Nick is a World War I veteran and a Yale University graduate who wants a more exciting life. He moves to New York, to be a bonds salesman. There, he rents a house in the small community of West Egg. The person living next to him is Jay Gatsby, a mysterious man who also has a lot of money. Jay Gatsby also hosts many expensive parties frequently. Strangely, he never participates in his own parties; because of this, many rumors are formed as to Gatsby's true identity and background. Nick drives out to visit his cousin Daisy in East Egg. There, he meets her husband, Tom Buchanan. He is also introduced to her friend, Jordan Baker. Nick learns from her that Tom has been having an affair with Myrtle Wilson. Nick decides to hold his judgment.\"]\n",
            "\t0.490\t['Great Expectations', 'It is set among the marshes of Kent and in London in the early to mid 19th century. From the outset, the reader is \"treated\" by the terrifying encounter between Pip, the protagonist, and the escaped convict, Abel Magwitch. \"Great Expectations\" is a graphic book, full of extreme imagery, poverty, prison ships, \"the hulks,\" barriers and chains, and fights to the death. It therefore combines intrigue and unexpected twists of autobiographical detail in different tones. Regardless of its narrative technique, the novel reflects the events of the time, Dickens\\' concerns, and the relationship between society and man.']\n",
            "\t0.487\t['The Great Gatsby', 'Nick holds a funeral for Gatsby, but very few people show up despite Gatsby having been famous. Angry and sad about everything that has happened, Nick decides to leave New York to move back to the Midwest.']\n"
          ],
          "name": "stdout"
        }
      ]
    },
    {
      "cell_type": "code",
      "metadata": {
        "colab": {
          "base_uri": "https://localhost:8080/"
        },
        "id": "LEb8wz6S9Yku",
        "outputId": "2e874371-fd1e-48e0-d11c-ed862588db9a"
      },
      "source": [
        "search(query=\"who turned out to be the mother on how i met your mother\")"
      ],
      "execution_count": null,
      "outputs": [
        {
          "output_type": "stream",
          "text": [
            "Input question: who turned out to be the mother on how i met your mother\n",
            "Results (after 0.652 seconds):\n",
            "\t0.730\t['Cristin Milioti', 'Cristin Milioti (born August 16, 1985) is an American actress and singer. She is best known for playing the Mother on the sitcom \"How I Met Your Mother\" from 2013 to 2014. She has also played Teresa Petrillo Belfort in the 2013 movie \"The Wolf of Wall Street\", and Betsy Solverson in the second season of \"Fargo\" (2015).']\n",
            "\t0.674\t['How I Met Your Mother', \"A retelling of Ted Mosby's (Josh Radnor) life before he met his wife (Cristin Milioti), whom is telling his kids in the year 2030, hence the title, 'How I Met Your Mother'. The story focuses on Ted's everyday life and relationships between his four best friends, Marshall Eriksen (Jason Segel), Lily Auldren (Alyson Hannigan), Barney Stinson (Neil Patrick Harris) and Robin Scherbatsky (Cobie Smulders). The show is mainly a comedy, along with heart-warming scenes and tearful moments. The show was loosely based on the lives of the show's producers; Carter Bays and Craig Thomas.\"]\n",
            "\t0.597\t['How I Met Your Mother', 'The story is set in New York City. It is about a man named Ted Mosby who tells his son and daughter how he met their mother. Ted is played by Josh Radnor and the story is narrated by Bob Saget who plays Ted Mosby in the future year 2030. Other characters and friends of Ted are Marshall Eriksen (Jason Segel), Robin Scherbatsky (Cobie Smulders), Barney Stinson (Neil Patrick Harris), and Lily Aldrin (Alyson Hannigan). \"How I Met Your Mother\" is also said to be the inheritor of \"Friends\" -- another famous sitcom from 1994 to 2004.']\n",
            "\t0.583\t['Jason Segel', 'Jason Jordan Segel (born January 18, 1980) is an American movie, television, and voice actor who is known for his role as Marshall Eriksen in \"How I Met Your Mother\". He has also appeared in \"The Muppets\" (2011). He was born in Los Angeles, California. He was partners with actress Michelle Williams from 2012 through early 2013.']\n",
            "\t0.513\t['Josh Radnor', 'Joshua Thomas Radnor (born July 29, 1974) is an American actor, director, producer, and screenwriter. He is best known for playing Ted Mosby on the CBS sitcom \"How I Met Your Mother\".']\n"
          ],
          "name": "stdout"
        }
      ]
    },
    {
      "cell_type": "code",
      "metadata": {
        "colab": {
          "base_uri": "https://localhost:8080/"
        },
        "id": "uGm4v0MeBYUa",
        "outputId": "95d8bafb-c96c-45ac-8b5d-5aa934f98038"
      },
      "source": [
        "from sentence_transformers import SentenceTransformer, util\n",
        "model = SentenceTransformer('nq-distilbert-base-v1')\n",
        "\n",
        "query_embedding = model.encode('How many people live in London?')\n",
        "\n",
        "#The passages are encoded as [title, text]\n",
        "passage_embedding = model.encode([['London', 'London has 9,787,426 inhabitants at the 2011 census.']])\n",
        "\n",
        "print(\"Similarity:\", util.pytorch_cos_sim(query_embedding, passage_embedding))"
      ],
      "execution_count": null,
      "outputs": [
        {
          "output_type": "stream",
          "text": [
            "Similarity: tensor([[0.6503]])\n"
          ],
          "name": "stdout"
        }
      ]
    },
    {
      "cell_type": "code",
      "metadata": {
        "colab": {
          "base_uri": "https://localhost:8080/"
        },
        "id": "OFaQkBLK_4pn",
        "outputId": "b1ce1304-5824-44d5-f756-c48d592645c5"
      },
      "source": [
        "query_embedding = model.encode('who turned out to be the mother on how i met your mother')\n",
        "\n",
        "#The passages are encoded as [title, text]\n",
        "passage_embedding = model.encode([['The Mother (How I Met Your Mother)', 'The Mother (How I Met Your Mother) Tracy McConnell (colloquial: \"The Mother\") is the title character from the CBS television sitcom \"How I Met Your Mother\". The show, narrated by Future Ted (Bob Saget), tells the story of how Ted Mosby (Josh Radnor) met The Mother. Tracy McConnell appears in eight episodes, from \"Lucky Penny\" to \"The Time Travelers\", as an unseen character; she was first seen fully in \"Something New\" and was promoted to a main character in season 9. The Mother is played by Cristin Milioti. The story of how Ted met The Mother is the framing device'],\n",
        "                                  ['Make It Easy on Me', 'and Pete Waterman on her 1993 album \"Good \\'N\\' Ready\", on which a remixed version of the song is included. \"Make It Easy On Me\", a mid-tempo R&B jam, received good reviews (especially for signalling a different, more soulful and mature sound atypical of the producers\\' Europop fare), but failed to make an impact on the charts, barely making the UK top 100 peaking at #99, and peaking at #52 on the \"Billboard\" R&B charts. The pop group Steps covered the song on their 1999 album \"Steptacular\". It was sung as a solo by Lisa Scott-Lee. Make It Easy on']])\n",
        "\n",
        "print(\"Similarity:\", util.pytorch_cos_sim(query_embedding, passage_embedding))"
      ],
      "execution_count": null,
      "outputs": [
        {
          "output_type": "stream",
          "text": [
            "Similarity: tensor([[ 0.7562, -0.0835]])\n"
          ],
          "name": "stdout"
        }
      ]
    },
    {
      "cell_type": "code",
      "metadata": {
        "colab": {
          "base_uri": "https://localhost:8080/"
        },
        "id": "yq6w1AUQAaNW",
        "outputId": "f901331e-09ea-4bc8-bf01-7261e28f7018"
      },
      "source": [
        "query_embedding = model.encode('where does the story the great gatsby take place')\n",
        "passage_embedding = model.encode([['The Great Gatsby',\n",
        " 'The Great Gatsby The Great Gatsby is a 1925 novel written by American author F. Scott Fitzgerald that follows a cast of characters living in the fictional towns of West Egg and East Egg on prosperous Long Island in the summer of 1922. The story primarily concerns the young and mysterious millionaire Jay Gatsby and his quixotic passion and obsession with the beautiful former debutante Daisy Buchanan. Considered to be Fitzgerald\\'s magnum opus, \"The Great Gatsby\" explores themes of decadence, idealism, resistance to change, social upheaval, and excess, creating a portrait of the Roaring Twenties that has been described as'],\n",
        " ['The Producers (1967 film)', '2005 (to coincide with the remake released that year). In 2011, MGM licensed the title to Shout! Factory to release a DVD and Blu-ray combo pack with new HD transfers and bonus materials. StudioCanal (worldwide rights holder to all of the Embassy Pictures library) released several R2 DVD editions and Blu-ray B releases using a transfer slightly different from the North Ameri can DVD and BDs. The Producers (1967 film) The Producers is a 1967 American satirical comedy film written and directed by Mel Brooks and starring Zero Mostel, Gene Wilder, Dick Shawn, and Kenneth Mars. The film was Brooks\\'s directorial']\n",
        "])\n",
        "\n",
        "print(\"Similarity:\", util.pytorch_cos_sim(query_embedding, passage_embedding))\n"
      ],
      "execution_count": null,
      "outputs": [
        {
          "output_type": "stream",
          "text": [
            "Similarity: tensor([[ 0.8294, -0.2055]])\n"
          ],
          "name": "stdout"
        }
      ]
    }
  ]
}